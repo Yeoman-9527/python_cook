{
 "metadata": {
  "language_info": {
   "codemirror_mode": {
    "name": "ipython",
    "version": 3
   },
   "file_extension": ".py",
   "mimetype": "text/x-python",
   "name": "python",
   "nbconvert_exporter": "python",
   "pygments_lexer": "ipython3",
   "version": "3.8.5"
  },
  "orig_nbformat": 2,
  "kernelspec": {
   "name": "python3",
   "display_name": "Python 3.8.5 64-bit ('base': conda)",
   "metadata": {
    "interpreter": {
     "hash": "ead85409a3df2736fa4852a03cf3afe7e5b1dbdc0e40d7d22bbcbf8cf1adf5fa"
    }
   }
  }
 },
 "nbformat": 4,
 "nbformat_minor": 2,
 "cells": [
  {
   "cell_type": "code",
   "execution_count": 2,
   "metadata": {},
   "outputs": [],
   "source": [
    "def dedupe(items):\n",
    "    seen = set()\n",
    "    for item in items:\n",
    "        if item not in seen:\n",
    "            yield item\n",
    "            seen.add(item)"
   ]
  },
  {
   "cell_type": "code",
   "execution_count": 6,
   "metadata": {},
   "outputs": [
    {
     "output_type": "execute_result",
     "data": {
      "text/plain": [
       "[1, 5, 2, 9, 10]"
      ]
     },
     "metadata": {},
     "execution_count": 6
    }
   ],
   "source": [
    "a = [1,5,2,1,9,1,5,10]\n",
    "list(dedupe(a))"
   ]
  },
  {
   "cell_type": "code",
   "execution_count": 33,
   "metadata": {},
   "outputs": [],
   "source": [
    "def dedupe(items, key=None):\n",
    "    seen = set()\n",
    "    for item in items:\n",
    "        val = item if key is None else key(item)\n",
    "        if val not in seen:\n",
    "            yield item\n",
    "            seen.add(val)"
   ]
  },
  {
   "cell_type": "code",
   "execution_count": 34,
   "metadata": {},
   "outputs": [],
   "source": [
    "a=[ {'x':1,'y':2}, {'x':1,'y':3}, {'x':1,'y':2}, {'x':2,'y':4}]"
   ]
  },
  {
   "cell_type": "code",
   "execution_count": 35,
   "metadata": {},
   "outputs": [
    {
     "output_type": "stream",
     "name": "stdout",
     "text": [
      "{(2, 4), (1, 2), (1, 3)}\n"
     ]
    },
    {
     "output_type": "execute_result",
     "data": {
      "text/plain": [
       "[{'x': 1, 'y': 2}, {'x': 1, 'y': 3}, {'x': 2, 'y': 4}]"
      ]
     },
     "metadata": {},
     "execution_count": 35
    }
   ],
   "source": [
    "list(dedupe(a, key=lambda d: (d['x'], d['y'])))"
   ]
  },
  {
   "cell_type": "code",
   "execution_count": 37,
   "metadata": {},
   "outputs": [
    {
     "output_type": "stream",
     "name": "stdout",
     "text": [
      "{1, 2}\n"
     ]
    },
    {
     "output_type": "execute_result",
     "data": {
      "text/plain": [
       "[{'x': 1, 'y': 2}, {'x': 2, 'y': 4}]"
      ]
     },
     "metadata": {},
     "execution_count": 37
    }
   ],
   "source": [
    "list(dedupe(a, key=lambda d: d['x']))"
   ]
  },
  {
   "cell_type": "code",
   "execution_count": 38,
   "metadata": {},
   "outputs": [
    {
     "output_type": "execute_result",
     "data": {
      "text/plain": [
       "[{'x': 1, 'y': 2}, {'x': 1, 'y': 2}, {'x': 1, 'y': 3}, {'x': 2, 'y': 4}]"
      ]
     },
     "metadata": {},
     "execution_count": 38
    }
   ],
   "source": [
    "sorted(a, key=lambda x: x['y'])"
   ]
  },
  {
   "cell_type": "code",
   "execution_count": 41,
   "metadata": {},
   "outputs": [
    {
     "output_type": "execute_result",
     "data": {
      "text/plain": [
       "[{'x': 2, 'y': 4}, {'x': 1, 'y': 3}, {'x': 1, 'y': 2}, {'x': 1, 'y': 2}]"
      ]
     },
     "metadata": {},
     "execution_count": 41
    }
   ],
   "source": [
    "sorted(a, key=lambda k: k['y'], reverse=True)"
   ]
  },
  {
   "cell_type": "code",
   "execution_count": 45,
   "metadata": {},
   "outputs": [
    {
     "output_type": "stream",
     "name": "stdout",
     "text": [
      "=== Keeping the Last N Items\n\n==== Problem\nYou want to keep a limited history of the last few items seen\nduring iteration or during some other kind of processing.\n==== Solution\nKeeping a limited history is a perfect use for a `collections.deque`.\nFor example, the following code performs a simple text match on a\nsequence of lines and prints the matching line along with the previous\nN lines of context when found:\n[source,python]\n----\nfrom collections import deque\ndef search(lines, pattern, history=5):\n    previous_lines = deque(maxlen=history)\n    for line in lines:\n        if pattern in line:\n            for pline in previous_lines:\n                print(lline, end='')\n            print(line, end='')\n            print()\n        previous_lines.append(line)\n# Example use on a file\nif __name__ == '__main__':\n    with open('somefile.txt') as f:\n         search(f, 'python', 5)\n==== Discussion\nUsing `deque(maxlen=N)` creates a fixed size queue.  When new items\nare added and the queue is full, the oldest item is automatically\nremoved.   For example:\n[source,pycon]\n>>> q = deque(maxlen=3)\n>>> q.append(1)\n>>> q.append(2)\n>>> q.append(3)\n>>> q\ndeque([1, 2, 3], maxlen=3)\n>>> q.append(4)\ndeque([2, 3, 4], maxlen=3)\n>>> q.append(5)\ndeque([3, 4, 5], maxlen=3)\nAlthough you could manually perform such operations on a list (e.g.,\nappending, deleting, etc.), the queue solution is far more elegant and\nruns a lot faster.\nMore generally, a `deque` can be used whenever you need a simple queue\nstructure.  If you don't give it a maximum size, you get an unbounded\nqueue that lets you append and pop items on either end.  For example:\n>>> q = deque()\ndeque([1, 2, 3])\n>>> q.appendleft(4)\ndeque([4, 1, 2, 3])\n>>> q.pop()\n3\ndeque([4, 1, 2])\n>>> q.popleft()\n4\nAdding or popping items from either end of a queue has O(1)\ncomplexity.   This is unlike a list where inserting or removing\nitems from the front of the list is O(N).    \n{\"         search(f, 'python', 5)\\n\", 'sequence of lines and prints the matching line along with the previous\\n', '[source,python]\\n', '\\n', '        previous_lines.append(line)\\n', 'removed.   For example:\\n', '>>> q\\n', '            print()\\n', 'deque([2, 3, 4], maxlen=3)\\n', 'items from the front of the list is O(N).    \\n', 'during iteration or during some other kind of processing.\\n', 'appending, deleting, etc.), the queue solution is far more elegant and\\n', '>>> q.appendleft(4)\\n', '        if pattern in line:\\n', 'Although you could manually perform such operations on a list (e.g.,\\n', '            for pline in previous_lines:\\n', 'Keeping a limited history is a perfect use for a `collections.deque`.\\n', 'deque([1, 2, 3], maxlen=3)\\n', '>>> q.append(2)\\n', '3\\n', '==== Solution\\n', '==== Discussion\\n', '    for line in lines:\\n', '----\\n', \"    with open('somefile.txt') as f:\\n\", 'You want to keep a limited history of the last few items seen\\n', 'are added and the queue is full, the oldest item is automatically\\n', '>>> q.pop()\\n', '>>> q.append(3)\\n', 'deque([4, 1, 2])\\n', '>>> q = deque(maxlen=3)\\n', '>>> q = deque()\\n', \"            print(line, end='')\\n\", '==== Problem\\n', '[source,pycon]\\n', 'N lines of context when found:\\n', 'def search(lines, pattern, history=5):\\n', 'For example, the following code performs a simple text match on a\\n', 'Using `deque(maxlen=N)` creates a fixed size queue.  When new items\\n', '# Example use on a file\\n', \"if __name__ == '__main__':\\n\", '    previous_lines = deque(maxlen=history)\\n', '>>> q.append(1)\\n', '=== Keeping the Last N Items\\n', '>>> q.append(5)\\n', 'More generally, a `deque` can be used whenever you need a simple queue\\n', 'from collections import deque\\n', 'Adding or popping items from either end of a queue has O(1)\\n', 'queue that lets you append and pop items on either end.  For example:\\n', \"structure.  If you don't give it a maximum size, you get an unbounded\\n\", '>>> q.append(4)\\n', 'complexity.   This is unlike a list where inserting or removing\\n', '>>> q.popleft()\\n', '4\\n', 'runs a lot faster.\\n', 'deque([1, 2, 3])\\n', 'deque([3, 4, 5], maxlen=3)\\n', 'deque([4, 1, 2, 3])\\n', \"                print(lline, end='')\\n\"}\n"
     ]
    }
   ],
   "source": [
    "with open('somefile.txt','r')as f:\n",
    "    for line in dedupe(f):\n",
    "        print(line, end='')"
   ]
  }
 ]
}